{
 "cells": [
  {
   "cell_type": "code",
   "execution_count": 7,
   "id": "415dabdc",
   "metadata": {},
   "outputs": [
    {
     "data": {
      "text/html": [
       "<div>\n",
       "<style scoped>\n",
       "    .dataframe tbody tr th:only-of-type {\n",
       "        vertical-align: middle;\n",
       "    }\n",
       "\n",
       "    .dataframe tbody tr th {\n",
       "        vertical-align: top;\n",
       "    }\n",
       "\n",
       "    .dataframe thead th {\n",
       "        text-align: right;\n",
       "    }\n",
       "</style>\n",
       "<table border=\"1\" class=\"dataframe\">\n",
       "  <thead>\n",
       "    <tr style=\"text-align: right;\">\n",
       "      <th></th>\n",
       "      <th>laptop_ID</th>\n",
       "      <th>Company</th>\n",
       "      <th>Product</th>\n",
       "      <th>TypeName</th>\n",
       "      <th>Inches</th>\n",
       "      <th>ScreenResolution</th>\n",
       "      <th>Cpu</th>\n",
       "      <th>Ram</th>\n",
       "      <th>Memory</th>\n",
       "      <th>Gpu</th>\n",
       "      <th>OpSys</th>\n",
       "      <th>Weight</th>\n",
       "      <th>Price_euros</th>\n",
       "    </tr>\n",
       "  </thead>\n",
       "  <tbody>\n",
       "    <tr>\n",
       "      <th>0</th>\n",
       "      <td>1</td>\n",
       "      <td>Apple</td>\n",
       "      <td>MacBook Pro</td>\n",
       "      <td>Ultrabook</td>\n",
       "      <td>13.3</td>\n",
       "      <td>IPS Panel Retina Display 2560x1600</td>\n",
       "      <td>Intel Core i5 2.3GHz</td>\n",
       "      <td>8GB</td>\n",
       "      <td>128GB SSD</td>\n",
       "      <td>Intel Iris Plus Graphics 640</td>\n",
       "      <td>macOS</td>\n",
       "      <td>1.37kg</td>\n",
       "      <td>1339.69</td>\n",
       "    </tr>\n",
       "    <tr>\n",
       "      <th>1</th>\n",
       "      <td>2</td>\n",
       "      <td>Apple</td>\n",
       "      <td>Macbook Air</td>\n",
       "      <td>Ultrabook</td>\n",
       "      <td>13.3</td>\n",
       "      <td>1440x900</td>\n",
       "      <td>Intel Core i5 1.8GHz</td>\n",
       "      <td>8GB</td>\n",
       "      <td>128GB Flash Storage</td>\n",
       "      <td>Intel HD Graphics 6000</td>\n",
       "      <td>macOS</td>\n",
       "      <td>1.34kg</td>\n",
       "      <td>898.94</td>\n",
       "    </tr>\n",
       "    <tr>\n",
       "      <th>2</th>\n",
       "      <td>3</td>\n",
       "      <td>HP</td>\n",
       "      <td>250 G6</td>\n",
       "      <td>Notebook</td>\n",
       "      <td>15.6</td>\n",
       "      <td>Full HD 1920x1080</td>\n",
       "      <td>Intel Core i5 7200U 2.5GHz</td>\n",
       "      <td>8GB</td>\n",
       "      <td>256GB SSD</td>\n",
       "      <td>Intel HD Graphics 620</td>\n",
       "      <td>No OS</td>\n",
       "      <td>1.86kg</td>\n",
       "      <td>575.00</td>\n",
       "    </tr>\n",
       "    <tr>\n",
       "      <th>3</th>\n",
       "      <td>4</td>\n",
       "      <td>Apple</td>\n",
       "      <td>MacBook Pro</td>\n",
       "      <td>Ultrabook</td>\n",
       "      <td>15.4</td>\n",
       "      <td>IPS Panel Retina Display 2880x1800</td>\n",
       "      <td>Intel Core i7 2.7GHz</td>\n",
       "      <td>16GB</td>\n",
       "      <td>512GB SSD</td>\n",
       "      <td>AMD Radeon Pro 455</td>\n",
       "      <td>macOS</td>\n",
       "      <td>1.83kg</td>\n",
       "      <td>2537.45</td>\n",
       "    </tr>\n",
       "    <tr>\n",
       "      <th>4</th>\n",
       "      <td>5</td>\n",
       "      <td>Apple</td>\n",
       "      <td>MacBook Pro</td>\n",
       "      <td>Ultrabook</td>\n",
       "      <td>13.3</td>\n",
       "      <td>IPS Panel Retina Display 2560x1600</td>\n",
       "      <td>Intel Core i5 3.1GHz</td>\n",
       "      <td>8GB</td>\n",
       "      <td>256GB SSD</td>\n",
       "      <td>Intel Iris Plus Graphics 650</td>\n",
       "      <td>macOS</td>\n",
       "      <td>1.37kg</td>\n",
       "      <td>1803.60</td>\n",
       "    </tr>\n",
       "  </tbody>\n",
       "</table>\n",
       "</div>"
      ],
      "text/plain": [
       "   laptop_ID Company      Product   TypeName  Inches  \\\n",
       "0          1   Apple  MacBook Pro  Ultrabook    13.3   \n",
       "1          2   Apple  Macbook Air  Ultrabook    13.3   \n",
       "2          3      HP       250 G6   Notebook    15.6   \n",
       "3          4   Apple  MacBook Pro  Ultrabook    15.4   \n",
       "4          5   Apple  MacBook Pro  Ultrabook    13.3   \n",
       "\n",
       "                     ScreenResolution                         Cpu   Ram  \\\n",
       "0  IPS Panel Retina Display 2560x1600        Intel Core i5 2.3GHz   8GB   \n",
       "1                            1440x900        Intel Core i5 1.8GHz   8GB   \n",
       "2                   Full HD 1920x1080  Intel Core i5 7200U 2.5GHz   8GB   \n",
       "3  IPS Panel Retina Display 2880x1800        Intel Core i7 2.7GHz  16GB   \n",
       "4  IPS Panel Retina Display 2560x1600        Intel Core i5 3.1GHz   8GB   \n",
       "\n",
       "                Memory                           Gpu  OpSys  Weight  \\\n",
       "0            128GB SSD  Intel Iris Plus Graphics 640  macOS  1.37kg   \n",
       "1  128GB Flash Storage        Intel HD Graphics 6000  macOS  1.34kg   \n",
       "2            256GB SSD         Intel HD Graphics 620  No OS  1.86kg   \n",
       "3            512GB SSD            AMD Radeon Pro 455  macOS  1.83kg   \n",
       "4            256GB SSD  Intel Iris Plus Graphics 650  macOS  1.37kg   \n",
       "\n",
       "   Price_euros  \n",
       "0      1339.69  \n",
       "1       898.94  \n",
       "2       575.00  \n",
       "3      2537.45  \n",
       "4      1803.60  "
      ]
     },
     "execution_count": 7,
     "metadata": {},
     "output_type": "execute_result"
    }
   ],
   "source": [
    "import pandas as pd\n",
    "import numpy as np\n",
    "\n",
    "# load the data\n",
    "#UnicodeDecodeError, which means Python can't read the file using the default utf-8 encoding.\n",
    "\n",
    "df = pd.read_csv('laptop_price.csv', encoding='latin1')\n",
    "\n",
    "\n",
    "df.head()"
   ]
  },
  {
   "cell_type": "code",
   "execution_count": 11,
   "id": "7cb00a4f",
   "metadata": {},
   "outputs": [
    {
     "name": "stdout",
     "output_type": "stream",
     "text": [
      "laptop_ID           0\n",
      "Company             0\n",
      "Product             0\n",
      "TypeName            0\n",
      "Inches              0\n",
      "ScreenResolution    0\n",
      "Cpu                 0\n",
      "Ram                 0\n",
      "Memory              0\n",
      "Gpu                 0\n",
      "OpSys               0\n",
      "Weight              0\n",
      "Price_euros         0\n",
      "dtype: int64\n",
      "<class 'pandas.core.frame.DataFrame'>\n",
      "RangeIndex: 1303 entries, 0 to 1302\n",
      "Data columns (total 13 columns):\n",
      " #   Column            Non-Null Count  Dtype  \n",
      "---  ------            --------------  -----  \n",
      " 0   laptop_ID         1303 non-null   int64  \n",
      " 1   Company           1303 non-null   object \n",
      " 2   Product           1303 non-null   object \n",
      " 3   TypeName          1303 non-null   object \n",
      " 4   Inches            1303 non-null   float64\n",
      " 5   ScreenResolution  1303 non-null   object \n",
      " 6   Cpu               1303 non-null   object \n",
      " 7   Ram               1303 non-null   object \n",
      " 8   Memory            1303 non-null   object \n",
      " 9   Gpu               1303 non-null   object \n",
      " 10  OpSys             1303 non-null   object \n",
      " 11  Weight            1303 non-null   object \n",
      " 12  Price_euros       1303 non-null   float64\n",
      "dtypes: float64(2), int64(1), object(10)\n",
      "memory usage: 132.5+ KB\n",
      "None\n",
      "Duplicates:  0\n"
     ]
    }
   ],
   "source": [
    "# data cleaning and preprocssing\n",
    "\n",
    "# check for missing values\n",
    "print(df.isnull().sum())\n",
    "\n",
    "# check dataset info and columns\n",
    "print(df.info())\n",
    "\n",
    "# check for duplicates\n",
    "print(\"Duplicates: \",df.duplicated().sum())\n",
    "\n",
    "# drop duplicates if any\n",
    "df.drop_duplicates(inplace=True)"
   ]
  },
  {
   "cell_type": "code",
   "execution_count": 19,
   "id": "4825634e",
   "metadata": {},
   "outputs": [],
   "source": [
    "# feature transform.\n",
    "# ram, cpu, memory are categorical, we need to convert them\n",
    "\n",
    "# convert ram to numeric\n",
    "\n",
    "# ensuring 'Ram' is string before replacing\n",
    "df['Ram']=df['Ram'].astype(str).str.replace('GB','').astype(int)\n"
   ]
  },
  {
   "cell_type": "code",
   "execution_count": 23,
   "id": "2a092c4d",
   "metadata": {},
   "outputs": [],
   "source": [
    "#convert weight to float\n",
    "# we need to remove Kg before converting\n",
    "df['Weight']=df['Weight'].astype(str).str.replace('kg','').astype(float)"
   ]
  },
  {
   "cell_type": "code",
   "execution_count": null,
   "id": "4e89bf1c",
   "metadata": {},
   "outputs": [],
   "source": [
    "# converting price to int\n",
    "df['Price_euros']=df['Price_euros'].astype(int)"
   ]
  },
  {
   "cell_type": "code",
   "execution_count": 30,
   "id": "884aebcb",
   "metadata": {},
   "outputs": [],
   "source": [
    "# extract screen size from 'Screen Resolution (e.g: 1920X1080)\n",
    "\n",
    "df['ScreenResolution']=df['ScreenResolution'].str.replace('Touchscreen','')\n",
    "df['ScreenResolution']=df['ScreenResolution'].str.replace('IPS','')\n",
    "df['ScreenResolution']=df['ScreenResolution'].str.strip()\n",
    "#removes any leading or trailing whitespace (spaces, tabs, newline characters) from the values in the ScreenResolution column\n",
    "# 'e.g'\n",
    "#' 1920x1080' → has leading space\n",
    "#'1920x1080 ' → has trailing space\n",
    "\n"
   ]
  },
  {
   "cell_type": "code",
   "execution_count": 41,
   "id": "d5c8462d",
   "metadata": {},
   "outputs": [],
   "source": [
    "# extract width and height from the resolution\n",
    "\n",
    "import re\n",
    "\n",
    "def extract_width(res):\n",
    "    match = re.search(r'(\\d+)x', res)\n",
    "    return int(match.group(1)) if match else None\n",
    "\n",
    "def extract_height(res):\n",
    "    match = re.search(r'x(\\d+)', res)  # <- fixed here\n",
    "    return int(match.group(1)) if match else None\n",
    "\n",
    "df['X_res'] = df['ScreenResolution'].apply(extract_width)\n",
    "df['Y_res'] = df['ScreenResolution'].apply(extract_height)\n",
    "\n",
    "#(\\d+)x: captures digits before the x (i.e., width)\n",
    "\n",
    "#x(\\d+): captures digits after the x (i.e., height)"
   ]
  },
  {
   "cell_type": "code",
   "execution_count": 44,
   "id": "e5793d45",
   "metadata": {},
   "outputs": [],
   "source": [
    "# calculate pixels per inch\n",
    "df['PPI']=((df['X_res']**2+df['Y_res']**2)**0.5/df['Inches']).astype(float)\n",
    "\n",
    "#Higher PPI = Sharper screen\n",
    "#Lower PPI = More pixelated display\n",
    "# PPI= root((X_res)2 + (Y_res)2) / Screen size in Inches\n",
    "# It combines resolution and screen size into one powerful feature."
   ]
  },
  {
   "cell_type": "code",
   "execution_count": 45,
   "id": "b249666f",
   "metadata": {},
   "outputs": [],
   "source": [
    "# drop screen resolution and Inches after extracting info (optional)\n",
    "# df.drop(['ScreenResolution','Inches],axis=1,inplace=True)\n"
   ]
  },
  {
   "cell_type": "code",
   "execution_count": 53,
   "id": "403b68b2",
   "metadata": {},
   "outputs": [
    {
     "name": "stderr",
     "output_type": "stream",
     "text": [
      "C:\\Users\\rahul\\AppData\\Local\\Temp\\ipykernel_19220\\3459780636.py:5: FutureWarning: A value is trying to be set on a copy of a DataFrame or Series through chained assignment using an inplace method.\n",
      "The behavior will change in pandas 3.0. This inplace method will never work because the intermediate object on which we are setting values always behaves as a copy.\n",
      "\n",
      "For example, when doing 'df[col].method(value, inplace=True)', try using 'df.method({col: value}, inplace=True)' or df[col] = df[col].method(value) instead, to perform the operation inplace on the original object.\n",
      "\n",
      "\n",
      "  df['Cpu_brand'].replace({'Intel':'Intel','AMD':'AMD','Celeron':'Intel','Pentium': 'Intel'},inplace=True)\n"
     ]
    }
   ],
   "source": [
    "# simplify CPU brand names\n",
    "\n",
    "df['Cpu_brand']=df['Cpu'].apply(lambda x: x.split()[0])\n",
    "\n",
    "df['Cpu_brand'].replace({'Intel':'Intel','AMD':'AMD','Celeron':'Intel','Pentium': 'Intel'},inplace=True)\n"
   ]
  },
  {
   "cell_type": "code",
   "execution_count": 55,
   "id": "0d8a9171",
   "metadata": {},
   "outputs": [],
   "source": [
    "def process_memory(mem):\n",
    "    try:\n",
    "        mem = str(mem).replace('GB', '').replace('TB', '000')  # Normalize to GB\n",
    "        ssd = 0\n",
    "        hdd = 0\n",
    "        if '+' in mem:\n",
    "            parts = mem.split('+')\n",
    "            for part in parts:\n",
    "                if 'SSD' in part:\n",
    "                    ssd += int(re.findall(r'\\d+', part)[0])\n",
    "                elif 'HDD' in part:\n",
    "                    hdd += int(re.findall(r'\\d+', part)[0])\n",
    "                elif 'Flash Storage' in part:\n",
    "                    ssd += int(re.findall(r'\\d+', part)[0])\n",
    "        else:\n",
    "            if 'SSD' in mem:\n",
    "                ssd = int(re.findall(r'\\d+', mem)[0])\n",
    "            elif 'HDD' in mem:\n",
    "                hdd = int(re.findall(r'\\d+', mem)[0])\n",
    "            elif 'Flash Storage' in mem:\n",
    "                ssd = int(re.findall(r'\\d+', mem)[0])\n",
    "        return pd.Series([ssd, hdd])\n",
    "    except:\n",
    "        return pd.Series([0, 0])  # default if parsing fails\n",
    "\n",
    "# Apply safely\n",
    "df[['SSD', 'HDD']] = df['Memory'].apply(process_memory)\n",
    "df.drop('Memory', axis=1, inplace=True)\n"
   ]
  },
  {
   "cell_type": "code",
   "execution_count": 64,
   "id": "da0b9c02",
   "metadata": {},
   "outputs": [],
   "source": [
    "# model training\n",
    "\n",
    "from sklearn.model_selection import train_test_split\n",
    "from sklearn.ensemble import RandomForestRegressor\n",
    "from sklearn.metrics import mean_absolute_error,mean_squared_error,r2_score\n",
    "\n",
    "X=df.drop('Price_euros',axis=1)\n",
    "y=df['Price_euros']\n"
   ]
  },
  {
   "cell_type": "code",
   "execution_count": 65,
   "id": "17890ff7",
   "metadata": {},
   "outputs": [],
   "source": [
    "X_train,X_test,y_train,y_test=train_test_split(X,y,test_size=0.2,random_state=42)"
   ]
  },
  {
   "cell_type": "code",
   "execution_count": null,
   "id": "942e6989",
   "metadata": {},
   "outputs": [],
   "source": [
    "\n",
    "cols_to_drop = ['Company', 'Product', 'TypeName', 'ScreenResolution', 'Cpu', 'Gpu', 'OpSys', 'Cpu_brand']\n",
    "existing_cols_to_drop = [col for col in cols_to_drop if col in df.columns]\n",
    "df.drop(columns=existing_cols_to_drop, inplace=True)\n",
    "\n"
   ]
  },
  {
   "cell_type": "code",
   "execution_count": 122,
   "id": "fed40eb2",
   "metadata": {},
   "outputs": [
    {
     "data": {
      "text/plain": [
       "laptop_ID             int64\n",
       "Company              object\n",
       "Product              object\n",
       "TypeName             object\n",
       "Inches              float64\n",
       "ScreenResolution     object\n",
       "Cpu                  object\n",
       "Ram                   int64\n",
       "Gpu                  object\n",
       "OpSys                object\n",
       "Weight              float64\n",
       "X_res                 int64\n",
       "Y_res                 int64\n",
       "PPI                 float64\n",
       "Cpu_brand            object\n",
       "SSD                   int64\n",
       "HDD                   int64\n",
       "dtype: object"
      ]
     },
     "execution_count": 122,
     "metadata": {},
     "output_type": "execute_result"
    }
   ],
   "source": [
    "X_train.dtypes\n",
    "# all should be in int or float"
   ]
  },
  {
   "cell_type": "code",
   "execution_count": 126,
   "id": "1ef97010",
   "metadata": {},
   "outputs": [
    {
     "name": "stdout",
     "output_type": "stream",
     "text": [
      "MAE: 207.20914274656806\n",
      "RMSE: 105316.32991113375\n",
      "R^2: 0.7926485411568813\n"
     ]
    }
   ],
   "source": [
    "from sklearn.model_selection import train_test_split\n",
    "from sklearn.ensemble import RandomForestRegressor\n",
    "from sklearn.metrics import mean_absolute_error, mean_squared_error, r2_score\n",
    "\n",
    "# Separate features and target\n",
    "X = df.drop('Price_euros', axis=1)\n",
    "y = df['Price_euros']\n",
    "\n",
    "# Split train-test 80-20\n",
    "X_train, X_test, y_train, y_test = train_test_split(X, y, test_size=0.2, random_state=42)\n",
    "\n",
    "# Initialize model\n",
    "model = RandomForestRegressor(n_estimators=100, random_state=42)\n",
    "\n",
    "# Train\n",
    "model.fit(X_train, y_train)\n",
    "\n",
    "# Predict\n",
    "y_pred = model.predict(X_test)\n",
    "\n",
    "# Evaluate\n",
    "print('MAE:', mean_absolute_error(y_test, y_pred))\n",
    "print('RMSE:', mean_squared_error(y_test, y_pred))\n",
    "print('R^2:', r2_score(y_test, y_pred))\n"
   ]
  },
  {
   "cell_type": "code",
   "execution_count": 127,
   "id": "659b105d",
   "metadata": {},
   "outputs": [],
   "source": [
    "# Save the model\n",
    "\n",
    "import pickle\n",
    "\n",
    "# save model\n",
    "\n",
    "with open('laptop_price_model.pkl','wb') as f:\n",
    "    pickle.dump(model,f)\n",
    "    \n",
    "# save the dataframe columns\n",
    "model_columns=list(X.columns)\n",
    "with open('model_columns.pkl','wb') as f:\n",
    "    pickle.dump(model_columns,f)"
   ]
  },
  {
   "cell_type": "code",
   "execution_count": null,
   "id": "79c65a6e",
   "metadata": {},
   "outputs": [],
   "source": [
    "\n"
   ]
  },
  {
   "cell_type": "code",
   "execution_count": null,
   "id": "a795e435",
   "metadata": {},
   "outputs": [],
   "source": []
  },
  {
   "cell_type": "code",
   "execution_count": null,
   "id": "eac547b4",
   "metadata": {},
   "outputs": [],
   "source": []
  },
  {
   "cell_type": "code",
   "execution_count": null,
   "id": "4f9b4e3b",
   "metadata": {},
   "outputs": [],
   "source": []
  },
  {
   "cell_type": "code",
   "execution_count": null,
   "id": "350a9641",
   "metadata": {},
   "outputs": [],
   "source": []
  },
  {
   "cell_type": "code",
   "execution_count": null,
   "id": "3f3997d0",
   "metadata": {},
   "outputs": [],
   "source": []
  }
 ],
 "metadata": {
  "kernelspec": {
   "display_name": "Python 3",
   "language": "python",
   "name": "python3"
  },
  "language_info": {
   "codemirror_mode": {
    "name": "ipython",
    "version": 3
   },
   "file_extension": ".py",
   "mimetype": "text/x-python",
   "name": "python",
   "nbconvert_exporter": "python",
   "pygments_lexer": "ipython3",
   "version": "3.13.4"
  }
 },
 "nbformat": 4,
 "nbformat_minor": 5
}
